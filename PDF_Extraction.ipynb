{
  "nbformat": 4,
  "nbformat_minor": 0,
  "metadata": {
    "colab": {
      "provenance": []
    },
    "kernelspec": {
      "name": "python3",
      "display_name": "Python 3"
    },
    "language_info": {
      "name": "python"
    }
  },
  "cells": [
    {
      "cell_type": "code",
      "source": [
        "from google.colab import drive\n",
        "drive.mount('/content/drive/')"
      ],
      "metadata": {
        "colab": {
          "base_uri": "https://localhost:8080/"
        },
        "id": "DH9Q-3LfoOV9",
        "outputId": "29d30823-ed57-48fe-d55f-1df4dadb4661"
      },
      "execution_count": 45,
      "outputs": [
        {
          "output_type": "stream",
          "name": "stdout",
          "text": [
            "Drive already mounted at /content/drive/; to attempt to forcibly remount, call drive.mount(\"/content/drive/\", force_remount=True).\n"
          ]
        }
      ]
    },
    {
      "cell_type": "code",
      "source": [
        "!pip install pdfminer.six"
      ],
      "metadata": {
        "colab": {
          "base_uri": "https://localhost:8080/"
        },
        "id": "qkF8iG4goZjh",
        "outputId": "652d74f6-22a7-42d2-e672-e6fb9c8abde9"
      },
      "execution_count": 46,
      "outputs": [
        {
          "output_type": "stream",
          "name": "stdout",
          "text": [
            "Looking in indexes: https://pypi.org/simple, https://us-python.pkg.dev/colab-wheels/public/simple/\n",
            "Requirement already satisfied: pdfminer.six in /usr/local/lib/python3.10/dist-packages (20221105)\n",
            "Requirement already satisfied: charset-normalizer>=2.0.0 in /usr/local/lib/python3.10/dist-packages (from pdfminer.six) (2.0.12)\n",
            "Requirement already satisfied: cryptography>=36.0.0 in /usr/local/lib/python3.10/dist-packages (from pdfminer.six) (40.0.2)\n",
            "Requirement already satisfied: cffi>=1.12 in /usr/local/lib/python3.10/dist-packages (from cryptography>=36.0.0->pdfminer.six) (1.15.1)\n",
            "Requirement already satisfied: pycparser in /usr/local/lib/python3.10/dist-packages (from cffi>=1.12->cryptography>=36.0.0->pdfminer.six) (2.21)\n"
          ]
        }
      ]
    },
    {
      "cell_type": "code",
      "source": [
        "pdfs_path = '/content/drive/MyDrive/needl/documents/'"
      ],
      "metadata": {
        "id": "Hfiu2yAyqDeO"
      },
      "execution_count": 47,
      "outputs": []
    },
    {
      "cell_type": "code",
      "source": [
        "!ls /content/drive/MyDrive/needl/documents"
      ],
      "metadata": {
        "colab": {
          "base_uri": "https://localhost:8080/"
        },
        "id": "CzuWHOPwqS9e",
        "outputId": "cd9265f0-65e9-4d71-eba0-1d5d705ada41"
      },
      "execution_count": 48,
      "outputs": [
        {
          "output_type": "stream",
          "name": "stdout",
          "text": [
            "'BHEL 2QFY18 Outlook Review.pdf'\n",
            "'Cholamandalam Investment Q1FY16 Result Update.pdf'\n",
            "'Citi- Petronet LNG (PLNG.BO) - 3Q - EBITDA Expectedly Soft, But Volumes Surprise Positively.pdf'\n",
            "'Deutsche Bank- Indraprastha Gas Alert -Visibility for growth remains weak beyond FY17, maintain Hold.pdf'\n",
            " document-1.pdf\n",
            " document-2.pdf\n",
            " document-3.pdf\n",
            " document-4.pdf\n",
            " document.pdf\n",
            "'Emkay Chambal Fertilisers Q2FY17 Result Update-074044.pdf'\n",
            "'GIC Housing Finance - Company Update - Centrum 20022014.pdf.qk6z28q.pdf'\n",
            "'IIFL - Coforge - KYC - Initiating Coverage - 20200924.pdf'\n",
            " SBI_Cards_Initiating_Coverage_23092020_202009231023023648711.pdf\n"
          ]
        }
      ]
    },
    {
      "cell_type": "code",
      "execution_count": 49,
      "metadata": {
        "id": "1CET6eiqGBZG"
      },
      "outputs": [],
      "source": [
        "import re\n",
        "import os\n",
        "from pdfminer.high_level import extract_pages, extract_text"
      ]
    },
    {
      "cell_type": "code",
      "source": [
        "pdf_files = os.listdir(pdfs_path)"
      ],
      "metadata": {
        "id": "dhBuKZj8oNV9"
      },
      "execution_count": 50,
      "outputs": []
    },
    {
      "cell_type": "code",
      "source": [
        "# get path to list of institutuions and BSE comapnies\n",
        "list_of_institutions_file = \"/content/drive/MyDrive/needl/comp-list.json\"\n",
        "list_of_BSE_companies_file = \"/content/drive/MyDrive/needl/bse_companies.csv\""
      ],
      "metadata": {
        "id": "6XmB3NYbsbL0"
      },
      "execution_count": 51,
      "outputs": []
    },
    {
      "cell_type": "markdown",
      "source": [
        "Read the names of companies and their codes from \"bse_companies.csv\""
      ],
      "metadata": {
        "id": "BGHHSTLd5gbw"
      }
    },
    {
      "cell_type": "code",
      "source": [
        "import pandas as pd\n",
        "df = pd.read_csv(list_of_BSE_companies_file, encoding='latin-1')\n",
        "# Remove NULL values from the dataframe\n",
        "Company_names = df['Company Name'].fillna(99999999).tolist()\n",
        "BSE_codes = df['CD_BSE Code'].fillna(99999999).tolist() \n",
        "NSE_symbols = df['CD_NSE Symbol'].fillna(99999999).tolist()\n",
        "Bloomberg_codes = df['CD_Bloomberg Code'].fillna(99999999).tolist()\n",
        "Reuters_codes = df['CD_Reuters Code'].fillna(99999999).tolist()\n",
        "\n",
        "# Remove spaces from lists\n",
        "Company_names = [\"99999999\" if company_name == \" \" else str(company_name) for company_name in Company_names]\n",
        "BSE_codes =  [\"99999999\" if bse_code == \" \" else str(int(bse_code)) for bse_code in BSE_codes]\n",
        "NSE_symbols = [\"99999999\" if nse_symbol == \" \" else str(nse_symbol) for nse_symbol in NSE_symbols]\n",
        "Bloomberg_codes = [\"99999999\" if bloomberg_code == \" \" else str(bloomberg_code) for bloomberg_code in Bloomberg_codes]\n",
        "Reuters_codes = [\"99999999\" if reuters_code == \" \" else str(reuters_code) for reuters_code in Reuters_codes]"
      ],
      "metadata": {
        "id": "pl2vdE_S0oam"
      },
      "execution_count": 52,
      "outputs": []
    },
    {
      "cell_type": "code",
      "source": [
        "import json\n",
        "institutions = open(list_of_institutions_file)\n",
        "institutions_list = json.load(institutions)"
      ],
      "metadata": {
        "id": "JBUIxF2S54SU"
      },
      "execution_count": 53,
      "outputs": []
    },
    {
      "cell_type": "markdown",
      "source": [
        "Get names of institutions authoring the reports"
      ],
      "metadata": {
        "id": "2FkbvpcPDR9m"
      }
    },
    {
      "cell_type": "code",
      "source": [
        "def get_institution(pdf_path):\n",
        "  text = extract_text(pdf_path)\n",
        "  matched_institutions = {}\n",
        "  #print(text)\n",
        "  for institution in institutions_list:\n",
        "    location = text.find(institution)\n",
        "    if location != -1:\n",
        "      matched_institutions[location] = institution\n",
        "  \n",
        "  # print(matched_institutions)\n",
        "  location = (min((matched_institutions.keys())))\n",
        "  print(\"Name of the institution: \", matched_institutions[location])\n",
        "  return matched_institutions[location]\n",
        "\n",
        "########################################################\n",
        "def get_institutions_method2(pdf_path):\n",
        "  for page_layout in extract_pages(pdf_path):\n",
        "    for element in page_layout:\n",
        "      print(element)"
      ],
      "metadata": {
        "id": "a8cNIQqe0LYi"
      },
      "execution_count": 54,
      "outputs": []
    },
    {
      "cell_type": "markdown",
      "source": [
        "Get names of Companies mentioed in the PDF documents"
      ],
      "metadata": {
        "id": "SBjh0RyGDmAe"
      }
    },
    {
      "cell_type": "code",
      "source": [
        "def get_companies(pdf_path):\n",
        "  text = extract_text(pdf_path)\n",
        "  #print(text)\n",
        "  matched_companies = []\n",
        "  for company_name, bse_code, nse_symbol, bloomberg_code, reuters_code in zip(Company_names, BSE_codes, NSE_symbols, Bloomberg_codes, Reuters_codes):\n",
        "    comapny_name = str(company_name)\n",
        "    bse_code = str(int(bse_code))\n",
        "    nse_symbol =  str(nse_symbol)\n",
        "    bloomberg_code =  str(bloomberg_code)\n",
        "    reuters_code = str(reuters_code)\n",
        "    \n",
        "    if text.find(company_name)!= -1 or text.find(bse_code)!= -1 or text.find(nse_symbol)!= -1 or text.find(bloomberg_code)!= -1 or text.find(reuters_code)!= -1:\n",
        "      # print(text.find(company_name), text.find(bse_code), text.find(nse_symbol), text.find(bloomberg_code), text.find(reuters_code))\n",
        "      # print(\"comapany_name:\",comapny_name, \"bse_code:\",bse_code, \"nse_symbol:\",nse_symbol, \"bloomberg_code:\",bloomberg_code, \"reuters_code:\", reuters_code)\n",
        "      matched_companies.append(company_name)\n",
        "\n",
        "  print(\"Companies present in PDF: \", len(matched_companies),matched_companies)\n",
        "  return matched_companies"
      ],
      "metadata": {
        "id": "7MwiyxwwDlu1"
      },
      "execution_count": 55,
      "outputs": []
    },
    {
      "cell_type": "markdown",
      "source": [
        "Get Authors"
      ],
      "metadata": {
        "id": "IwFTvse3xv9c"
      }
    },
    {
      "cell_type": "code",
      "source": [
        "import re\n",
        "exclude_list = ['investor', 'compliance', 'research', 'mail']\n",
        "def get_authors(pdf_path):\n",
        "  text = extract_text(pdf_path)\n",
        "  emails = re.findall(\"([a-zA-Z0-9_.+-]+@[a-zA-Z0-9-]+\\.[a-zA-Z0-9-.]+)\", text)   # search for email like string in the text\n",
        "  authors = []\n",
        "  present = False\n",
        "  for email in emails:\n",
        "    for item in exclude_list:\n",
        "      if item in email:\n",
        "        present = True\n",
        "        break\n",
        "    if present == True:\n",
        "      break;\n",
        "    authors.append(email)\n",
        "    #print(email)\n",
        "  \n",
        "  unique_authors = set(authors)\n",
        "  unique_authors = [unique_author.split('@')[0] for unique_author in unique_authors]  # get the first part of email\n",
        "  unique_authors = [unique_author.replace(\".\", \" \" ) for unique_author in unique_authors]\n",
        "  #strip non-alphabetic symbols\n",
        "  print(\"Authors of PDF: \", unique_authors)\n",
        "  return unique_authors"
      ],
      "metadata": {
        "id": "UKW4sPc9dhYU"
      },
      "execution_count": 56,
      "outputs": []
    },
    {
      "cell_type": "code",
      "source": [
        "output = \"/content/drive/MyDrive/needl/output.csv\"\n",
        "import csv\n",
        "with open(output, 'w') as csvfile: \n",
        "    # creating a csv writer object \n",
        "    csvwriter = csv.writer(csvfile)\n",
        "    csvwriter.writerow(['name of the file',  'author names', 'author institution', 'companies mentioned'])\n",
        "    for pdf in pdf_files:\n",
        "      print(\"name of the pdf: \", pdf)\n",
        "      pdf_path = pdfs_path + pdf\n",
        "      _institution = get_institution(pdf_path)          \n",
        "      _companies = get_companies(pdf_path)\n",
        "      _authors = get_authors(pdf_path)\n",
        "      fields = [pdf, _authors, _institution, _companies]\n",
        "      print(\"\\n\")\n",
        "      # writing the fields\n",
        "      csvwriter.writerow(fields)"
      ],
      "metadata": {
        "colab": {
          "base_uri": "https://localhost:8080/"
        },
        "id": "5mXDeA34xmMz",
        "outputId": "a4b57fe7-6361-4e3a-fbf7-dd9c6ca9f90f"
      },
      "execution_count": 57,
      "outputs": [
        {
          "output_type": "stream",
          "name": "stdout",
          "text": [
            "name of the pdf:  Deutsche Bank- Indraprastha Gas Alert -Visibility for growth remains weak beyond FY17, maintain Hold.pdf\n",
            "Name of the institution:  Deutsche Bank\n",
            "Companies present in PDF:  4 ['Bharat Petroleum Corporation Ltd.', 'BSE Ltd.', 'GAIL (India) Ltd.', 'Indraprastha Gas Ltd.']\n",
            "Authors of PDF:  ['harshad katkar', 'amit murarka']\n",
            "\n",
            "\n",
            "name of the pdf:  GIC Housing Finance - Company Update - Centrum 20022014.pdf.qk6z28q.pdf\n",
            "Name of the institution:  Bloomberg\n",
            "Companies present in PDF:  10 ['BSE Ltd.', 'Central Depository Services (India) Ltd.', 'CRISIL Ltd.', 'GIC Housing Finance Ltd.', 'Housing Development Finance Corporation Ltd.', 'ICRA Ltd.', 'Multi Commodity Exchange Of India Ltd.', 'Narayana Hrudayalaya Ltd.', 'Standard Industries Ltd.', 'Tilaknagar Industries Ltd.']\n",
            "Authors of PDF:  ['aalok shah']\n",
            "\n",
            "\n",
            "name of the pdf:  SBI_Cards_Initiating_Coverage_23092020_202009231023023648711.pdf\n",
            "Name of the institution:  Cre\n",
            "Companies present in PDF:  9 ['BSE Ltd.', 'Central Depository Services (India) Ltd.', 'CRISIL Ltd.', 'Housing Development Finance Corporation Ltd.', 'Larsen & Toubro Ltd.', 'Multi Commodity Exchange Of India Ltd.', 'Narayana Hrudayalaya Ltd.', 'Standard Industries Ltd.', 'Total Transport Systems Ltd.']\n",
            "Authors of PDF:  ['Nishaben shankhala']\n",
            "\n",
            "\n",
            "name of the pdf:  document-3.pdf\n",
            "Name of the institution:  Dai\n",
            "Companies present in PDF:  6 ['ACC Ltd.', 'Bhansali Engineering Polymers Ltd.', 'BSE Ltd.', 'Daewoo Motors India Ltd.', 'IndusInd Bank Ltd.', 'Narayana Hrudayalaya Ltd.']\n",
            "Authors of PDF:  ['girish pai', 'ravi jagtiani', 'michael pillai', 'arjun bagga', 'raghav garg', 'rahul arora']\n",
            "\n",
            "\n",
            "name of the pdf:  Cholamandalam Investment Q1FY16 Result Update.pdf\n",
            "Name of the institution:  Edel Invest\n",
            "Companies present in PDF:  5 ['BSE Ltd.', 'Global Syntex (Bhilwara) Ltd.', 'MPIL Corporation Ltd.', 'Narayana Hrudayalaya Ltd.', 'SV Global Mill Ltd.']\n",
            "Authors of PDF:  ['Raj gala', 'Sandeep bhandari']\n",
            "\n",
            "\n",
            "name of the pdf:  Emkay Chambal Fertilisers Q2FY17 Result Update-074044.pdf\n",
            "Name of the institution:  Equity Research\n",
            "Companies present in PDF:  7 ['ACC Ltd.', 'BSE Ltd.', 'Chambal Fertilisers & Chemicals Ltd.', 'Emkay Global Financial Services Ltd.', 'Firstsource Solutions Ltd.', 'Multi Commodity Exchange Of India Ltd.', 'Narayana Hrudayalaya Ltd.']\n",
            "Authors of PDF:  ['rohan gupta', 'pratik tholiya']\n",
            "\n",
            "\n",
            "name of the pdf:  document-4.pdf\n",
            "Name of the institution:  UTI Asset\n",
            "Companies present in PDF:  11 ['Automotive Axles Ltd.', 'Daewoo Motors India Ltd.', 'Housing Development Finance Corporation Ltd.', 'ICICI Ltd. (Amalgamated)', 'IDFC Ltd.', 'Larsen & Toubro Ltd.', 'Narayana Hrudayalaya Ltd.', 'Punjab National Bank', 'Tilaknagar Industries Ltd.', 'Titan Company Ltd.', 'Yenepoya Minerals & Granites Ltd.']\n",
            "Authors of PDF:  ['kajal gandhi', 'yash batra', 'vishal narnolia', 'pankaj pandey']\n",
            "\n",
            "\n",
            "name of the pdf:  document-1.pdf\n",
            "Name of the institution:  Classic\n",
            "Companies present in PDF:  6 ['Bhartiya International Ltd.', 'Dhanuka Realty Ltd.', 'Eicher Motors Ltd.', 'ITI Ltd.', 'Narayana Hrudayalaya Ltd.', 'Tilaknagar Industries Ltd.']\n",
            "Authors of PDF:  ['nishit jalan', 'nikhil kale']\n",
            "\n",
            "\n",
            "name of the pdf:  IIFL - Coforge - KYC - Initiating Coverage - 20200924.pdf\n",
            "Name of the institution:  Bloomberg\n",
            "Companies present in PDF:  10 ['BSE Ltd.', 'Central Depository Services (India) Ltd.', 'IIFL Holdings Ltd.', 'L&T Technology Services Ltd.', 'Larsen & Toubro Infotech Ltd.', 'Larsen & Toubro Ltd.', 'Narayana Hrudayalaya Ltd.', 'Tata Consultancy Services Ltd.', 'Tech Mahindra Ltd.', 'Tilaknagar Industries Ltd.']\n",
            "Authors of PDF:  ['rishi jhunjhunwala', 'ameya karambelkar']\n",
            "\n",
            "\n",
            "name of the pdf:  BHEL 2QFY18 Outlook Review.pdf\n",
            "Name of the institution:  Bloomberg\n",
            "Companies present in PDF:  9 ['Bharat Heavy Electricals Ltd.', 'BSE Ltd.', 'Larsen & Toubro Infotech Ltd.', 'Larsen & Toubro Ltd.', 'Narayana Hrudayalaya Ltd.', 'NTPC Ltd.', 'Shri Ram Switchgears Ltd.', 'Tilaknagar Industries Ltd.', 'Total Transport Systems Ltd.']\n",
            "Authors of PDF:  ['sriram', 'ravi']\n",
            "\n",
            "\n",
            "name of the pdf:  document-2.pdf\n",
            "Name of the institution:  Equity Research\n",
            "Companies present in PDF:  16 ['ABB India Ltd.', 'Alkem Laboratories Ltd.', 'Apollo Hospitals Enterprise Ltd.', 'Biocon Ltd.', 'BSE Ltd.', 'CHI Investments Ltd. (Amalgamated)', 'Cipla Ltd.', 'Dr. Reddys Laboratories Ltd.', 'Fortis Healthcare Ltd.', 'Future Supply Chain Solutions Ltd.', 'Glenmark Pharmaceuticals Ltd.', 'Larsen & Toubro Ltd.', 'Lupin Ltd.', 'Narayana Hrudayalaya Ltd.', 'Sun Pharmaceutical Industries Ltd.', 'UPL Ltd.']\n",
            "Authors of PDF:  ['neha x manpuria', 'kevyn h kadakia']\n",
            "\n",
            "\n",
            "name of the pdf:  Citi- Petronet LNG (PLNG.BO) - 3Q - EBITDA Expectedly Soft, But Volumes Surprise Positively.pdf\n",
            "Name of the institution:  Citi Research\n",
            "Companies present in PDF:  16 ['ACC Ltd.', 'Action Construction Equipment Ltd.', 'Ashok Leyland Ltd.', 'CHI Investments Ltd. (Amalgamated)', 'Firstsource Solutions Ltd.', 'GAIL (India) Ltd.', 'Gujarat State Petronet Ltd.', 'Indraprastha Gas Ltd.', 'ITI Ltd.', 'Larsen & Toubro Ltd.', 'MSP Steel & Power Ltd.', 'Narayana Hrudayalaya Ltd.', 'Petronet LNG Ltd.', 'PTC India Ltd.', 'Shipping Corporation Of India Ltd.', 'Tilaknagar Industries Ltd.']\n",
            "Authors of PDF:  ['saurabh handa', 'sohini1 banerjee']\n",
            "\n",
            "\n",
            "name of the pdf:  document.pdf\n",
            "Name of the institution:  Bloomberg\n",
            "Companies present in PDF:  7 ['ACC Ltd.', 'BSE Ltd.', 'Central Depository Services (India) Ltd.', 'ITC Ltd.', 'Multi Commodity Exchange Of India Ltd.', 'Narayana Hrudayalaya Ltd.', 'Thomas Cook (India) Ltd.']\n",
            "Authors of PDF:  ['shubham aggarwal', 'shirish pardeshi']\n",
            "\n",
            "\n"
          ]
        }
      ]
    },
    {
      "cell_type": "code",
      "source": [],
      "metadata": {
        "id": "0EdrndpMkN7g"
      },
      "execution_count": null,
      "outputs": []
    }
  ]
}